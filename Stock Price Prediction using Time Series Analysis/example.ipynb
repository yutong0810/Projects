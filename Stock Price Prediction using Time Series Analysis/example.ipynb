{
 "cells": [
  {
   "cell_type": "code",
   "metadata": {
    "tags": [],
    "cell_id": "00000-0cab15a5-aab4-4d87-a287-0ceed8cd4002",
    "deepnote_to_be_reexecuted": false,
    "source_hash": "f6a9b985",
    "execution_start": 1626457514242,
    "execution_millis": 5193,
    "deepnote_cell_type": "code"
   },
   "source": "import numpy as np\nimport pandas as pd\nimport matplotlib.pyplot as plt\nfrom matplotlib.pyplot import figure\nimport seaborn as sns\nfrom sklearn.model_selection import train_test_split\nfrom sklearn.linear_model import LinearRegression \nfrom sklearn.metrics import r2_score\nfrom statsmodels.tsa.arima_model import ARMA\nimport math\nfrom keras.models import Sequential\nfrom keras.layers import Dense\nfrom keras.layers import LSTM\nfrom sklearn.preprocessing import MinMaxScaler\nfrom sklearn.metrics import mean_squared_error",
   "outputs": [
    {
     "name": "stderr",
     "text": "2021-07-16 17:45:16.037461: W tensorflow/stream_executor/platform/default/dso_loader.cc:60] Could not load dynamic library 'libcudart.so.11.0'; dlerror: libcudart.so.11.0: cannot open shared object file: No such file or directory\n2021-07-16 17:45:16.037505: I tensorflow/stream_executor/cuda/cudart_stub.cc:29] Ignore above cudart dlerror if you do not have a GPU set up on your machine.\n",
     "output_type": "stream"
    }
   ],
   "execution_count": 1
  },
  {
   "cell_type": "code",
   "metadata": {
    "tags": [],
    "cell_id": "00001-b12546aa-5d54-49a5-84c9-fc3e3bba2b03",
    "deepnote_to_be_reexecuted": false,
    "source_hash": "476f3bac",
    "execution_start": 1626457569822,
    "execution_millis": 684,
    "deepnote_cell_type": "code"
   },
   "source": "adjusted = pd.read_csv('prices-split-adjusted.csv')",
   "outputs": [],
   "execution_count": 2
  },
  {
   "cell_type": "code",
   "metadata": {
    "tags": [],
    "cell_id": "00002-3a451c99-9f98-4c9b-9271-08d6d785573e",
    "deepnote_to_be_reexecuted": false,
    "source_hash": "625a9ae7",
    "execution_start": 1626457571317,
    "execution_millis": 31,
    "deepnote_cell_type": "code"
   },
   "source": "adjusted.head()",
   "outputs": [
    {
     "output_type": "execute_result",
     "execution_count": 3,
     "data": {
      "application/vnd.deepnote.dataframe.v2+json": {
       "row_count": 5,
       "column_count": 7,
       "columns": [
        {
         "name": "date",
         "dtype": "object",
         "stats": {
          "unique_count": 5,
          "nan_count": 0,
          "categories": [
           {
            "name": "2016-01-05",
            "count": 1
           },
           {
            "name": "2016-01-06",
            "count": 1
           },
           {
            "name": "3 others",
            "count": 3
           }
          ]
         }
        },
        {
         "name": "symbol",
         "dtype": "object",
         "stats": {
          "unique_count": 1,
          "nan_count": 0,
          "categories": [
           {
            "name": "WLTW",
            "count": 5
           }
          ]
         }
        },
        {
         "name": "open",
         "dtype": "float64",
         "stats": {
          "unique_count": 5,
          "nan_count": 0,
          "min": "115.480003",
          "max": "125.239998",
          "histogram": [
           {
            "bin_start": 115.480003,
            "bin_end": 116.4560025,
            "count": 2
           },
           {
            "bin_start": 116.4560025,
            "bin_end": 117.432002,
            "count": 1
           },
           {
            "bin_start": 117.432002,
            "bin_end": 118.4080015,
            "count": 0
           },
           {
            "bin_start": 118.4080015,
            "bin_end": 119.384001,
            "count": 0
           },
           {
            "bin_start": 119.384001,
            "bin_end": 120.3600005,
            "count": 0
           },
           {
            "bin_start": 120.3600005,
            "bin_end": 121.336,
            "count": 0
           },
           {
            "bin_start": 121.336,
            "bin_end": 122.3119995,
            "count": 0
           },
           {
            "bin_start": 122.3119995,
            "bin_end": 123.287999,
            "count": 0
           },
           {
            "bin_start": 123.287999,
            "bin_end": 124.2639985,
            "count": 1
           },
           {
            "bin_start": 124.2639985,
            "bin_end": 125.239998,
            "count": 1
           }
          ]
         }
        },
        {
         "name": "close",
         "dtype": "float64",
         "stats": {
          "unique_count": 5,
          "nan_count": 0,
          "min": "114.949997",
          "max": "125.839996",
          "histogram": [
           {
            "bin_start": 114.949997,
            "bin_end": 116.0389969,
            "count": 2
           },
           {
            "bin_start": 116.0389969,
            "bin_end": 117.12799679999999,
            "count": 1
           },
           {
            "bin_start": 117.12799679999999,
            "bin_end": 118.2169967,
            "count": 0
           },
           {
            "bin_start": 118.2169967,
            "bin_end": 119.3059966,
            "count": 0
           },
           {
            "bin_start": 119.3059966,
            "bin_end": 120.39499649999999,
            "count": 1
           },
           {
            "bin_start": 120.39499649999999,
            "bin_end": 121.4839964,
            "count": 0
           },
           {
            "bin_start": 121.4839964,
            "bin_end": 122.5729963,
            "count": 0
           },
           {
            "bin_start": 122.5729963,
            "bin_end": 123.6619962,
            "count": 0
           },
           {
            "bin_start": 123.6619962,
            "bin_end": 124.7509961,
            "count": 0
           },
           {
            "bin_start": 124.7509961,
            "bin_end": 125.839996,
            "count": 1
           }
          ]
         }
        },
        {
         "name": "low",
         "dtype": "float64",
         "stats": {
          "unique_count": 5,
          "nan_count": 0,
          "min": "113.5",
          "max": "122.309998",
          "histogram": [
           {
            "bin_start": 113.5,
            "bin_end": 114.3809998,
            "count": 2
           },
           {
            "bin_start": 114.3809998,
            "bin_end": 115.2619996,
            "count": 1
           },
           {
            "bin_start": 115.2619996,
            "bin_end": 116.1429994,
            "count": 0
           },
           {
            "bin_start": 116.1429994,
            "bin_end": 117.02399919999999,
            "count": 0
           },
           {
            "bin_start": 117.02399919999999,
            "bin_end": 117.904999,
            "count": 0
           },
           {
            "bin_start": 117.904999,
            "bin_end": 118.7859988,
            "count": 0
           },
           {
            "bin_start": 118.7859988,
            "bin_end": 119.6669986,
            "count": 0
           },
           {
            "bin_start": 119.6669986,
            "bin_end": 120.5479984,
            "count": 1
           },
           {
            "bin_start": 120.5479984,
            "bin_end": 121.4289982,
            "count": 0
           },
           {
            "bin_start": 121.4289982,
            "bin_end": 122.309998,
            "count": 1
           }
          ]
         }
        },
        {
         "name": "high",
         "dtype": "float64",
         "stats": {
          "unique_count": 5,
          "nan_count": 0,
          "min": "117.330002",
          "max": "126.25",
          "histogram": [
           {
            "bin_start": 117.330002,
            "bin_end": 118.22200179999999,
            "count": 2
           },
           {
            "bin_start": 118.22200179999999,
            "bin_end": 119.1140016,
            "count": 0
           },
           {
            "bin_start": 119.1140016,
            "bin_end": 120.0060014,
            "count": 1
           },
           {
            "bin_start": 120.0060014,
            "bin_end": 120.8980012,
            "count": 0
           },
           {
            "bin_start": 120.8980012,
            "bin_end": 121.79000099999999,
            "count": 0
           },
           {
            "bin_start": 121.79000099999999,
            "bin_end": 122.6820008,
            "count": 0
           },
           {
            "bin_start": 122.6820008,
            "bin_end": 123.5740006,
            "count": 0
           },
           {
            "bin_start": 123.5740006,
            "bin_end": 124.4660004,
            "count": 0
           },
           {
            "bin_start": 124.4660004,
            "bin_end": 125.35800019999999,
            "count": 0
           },
           {
            "bin_start": 125.35800019999999,
            "bin_end": 126.25,
            "count": 2
           }
          ]
         }
        },
        {
         "name": "volume",
         "dtype": "float64",
         "stats": {
          "unique_count": 5,
          "nan_count": 0,
          "min": "1408600.0",
          "max": "2489500.0",
          "histogram": [
           {
            "bin_start": 1408600,
            "bin_end": 1516690,
            "count": 1
           },
           {
            "bin_start": 1516690,
            "bin_end": 1624780,
            "count": 0
           },
           {
            "bin_start": 1624780,
            "bin_end": 1732870,
            "count": 0
           },
           {
            "bin_start": 1732870,
            "bin_end": 1840960,
            "count": 0
           },
           {
            "bin_start": 1840960,
            "bin_end": 1949050,
            "count": 0
           },
           {
            "bin_start": 1949050,
            "bin_end": 2057140,
            "count": 1
           },
           {
            "bin_start": 2057140,
            "bin_end": 2165230,
            "count": 1
           },
           {
            "bin_start": 2165230,
            "bin_end": 2273320,
            "count": 0
           },
           {
            "bin_start": 2273320,
            "bin_end": 2381410,
            "count": 0
           },
           {
            "bin_start": 2381410,
            "bin_end": 2489500,
            "count": 2
           }
          ]
         }
        },
        {
         "name": "_deepnote_index_column",
         "dtype": "int64"
        }
       ],
       "rows_top": [
        {
         "date": "2016-01-05",
         "symbol": "WLTW",
         "open": 123.43,
         "close": 125.839996,
         "low": 122.309998,
         "high": 126.25,
         "volume": 2163600,
         "_deepnote_index_column": 0
        },
        {
         "date": "2016-01-06",
         "symbol": "WLTW",
         "open": 125.239998,
         "close": 119.980003,
         "low": 119.940002,
         "high": 125.540001,
         "volume": 2386400,
         "_deepnote_index_column": 1
        },
        {
         "date": "2016-01-07",
         "symbol": "WLTW",
         "open": 116.379997,
         "close": 114.949997,
         "low": 114.93,
         "high": 119.739998,
         "volume": 2489500,
         "_deepnote_index_column": 2
        },
        {
         "date": "2016-01-08",
         "symbol": "WLTW",
         "open": 115.480003,
         "close": 116.620003,
         "low": 113.5,
         "high": 117.440002,
         "volume": 2006300,
         "_deepnote_index_column": 3
        },
        {
         "date": "2016-01-11",
         "symbol": "WLTW",
         "open": 117.010002,
         "close": 114.970001,
         "low": 114.089996,
         "high": 117.330002,
         "volume": 1408600,
         "_deepnote_index_column": 4
        }
       ],
       "rows_bottom": null
      },
      "text/plain": "         date symbol        open       close         low        high  \\\n0  2016-01-05   WLTW  123.430000  125.839996  122.309998  126.250000   \n1  2016-01-06   WLTW  125.239998  119.980003  119.940002  125.540001   \n2  2016-01-07   WLTW  116.379997  114.949997  114.930000  119.739998   \n3  2016-01-08   WLTW  115.480003  116.620003  113.500000  117.440002   \n4  2016-01-11   WLTW  117.010002  114.970001  114.089996  117.330002   \n\n      volume  \n0  2163600.0  \n1  2386400.0  \n2  2489500.0  \n3  2006300.0  \n4  1408600.0  ",
      "text/html": "<div>\n<style scoped>\n    .dataframe tbody tr th:only-of-type {\n        vertical-align: middle;\n    }\n\n    .dataframe tbody tr th {\n        vertical-align: top;\n    }\n\n    .dataframe thead th {\n        text-align: right;\n    }\n</style>\n<table border=\"1\" class=\"dataframe\">\n  <thead>\n    <tr style=\"text-align: right;\">\n      <th></th>\n      <th>date</th>\n      <th>symbol</th>\n      <th>open</th>\n      <th>close</th>\n      <th>low</th>\n      <th>high</th>\n      <th>volume</th>\n    </tr>\n  </thead>\n  <tbody>\n    <tr>\n      <th>0</th>\n      <td>2016-01-05</td>\n      <td>WLTW</td>\n      <td>123.430000</td>\n      <td>125.839996</td>\n      <td>122.309998</td>\n      <td>126.250000</td>\n      <td>2163600.0</td>\n    </tr>\n    <tr>\n      <th>1</th>\n      <td>2016-01-06</td>\n      <td>WLTW</td>\n      <td>125.239998</td>\n      <td>119.980003</td>\n      <td>119.940002</td>\n      <td>125.540001</td>\n      <td>2386400.0</td>\n    </tr>\n    <tr>\n      <th>2</th>\n      <td>2016-01-07</td>\n      <td>WLTW</td>\n      <td>116.379997</td>\n      <td>114.949997</td>\n      <td>114.930000</td>\n      <td>119.739998</td>\n      <td>2489500.0</td>\n    </tr>\n    <tr>\n      <th>3</th>\n      <td>2016-01-08</td>\n      <td>WLTW</td>\n      <td>115.480003</td>\n      <td>116.620003</td>\n      <td>113.500000</td>\n      <td>117.440002</td>\n      <td>2006300.0</td>\n    </tr>\n    <tr>\n      <th>4</th>\n      <td>2016-01-11</td>\n      <td>WLTW</td>\n      <td>117.010002</td>\n      <td>114.970001</td>\n      <td>114.089996</td>\n      <td>117.330002</td>\n      <td>1408600.0</td>\n    </tr>\n  </tbody>\n</table>\n</div>"
     },
     "metadata": {}
    }
   ],
   "execution_count": 3
  },
  {
   "cell_type": "code",
   "metadata": {
    "tags": [],
    "cell_id": "00002-2c71d8b7-9ede-4342-84ce-156691e8a062",
    "deepnote_to_be_reexecuted": false,
    "source_hash": "5c4ea3f2",
    "execution_start": 1626457572973,
    "execution_millis": 6,
    "deepnote_cell_type": "code"
   },
   "source": "temp = adjusted[adjusted['symbol'] == 'WLTW']['open']",
   "outputs": [],
   "execution_count": 4
  },
  {
   "cell_type": "code",
   "metadata": {
    "tags": [],
    "cell_id": "00005-8cafb7a9-56c8-4664-84e1-fb10db5a3c4f",
    "deepnote_to_be_reexecuted": false,
    "source_hash": "955d764c",
    "execution_start": 1626457575221,
    "execution_millis": 3,
    "deepnote_cell_type": "code"
   },
   "source": "n = len(temp)\n\ntrain_size = int(n * 0.7)\ntest_size = n - train_size\n\ntrain_X = temp[ : train_size] \ntrue_y = temp[train_size : n]\n\naverage = sum(train_X) / train_size\n\npred_y = [average] * test_size",
   "outputs": [],
   "execution_count": 5
  },
  {
   "cell_type": "code",
   "metadata": {
    "tags": [],
    "cell_id": "00005-c78396a2-d87d-4e9e-abd4-eb5360a5e551",
    "deepnote_to_be_reexecuted": false,
    "source_hash": "d4e69e2b",
    "execution_start": 1626457577942,
    "execution_millis": 8,
    "deepnote_cell_type": "code"
   },
   "source": "true_y[175]",
   "outputs": [
    {
     "output_type": "execute_result",
     "execution_count": 6,
     "data": {
      "text/plain": "122.900002"
     },
     "metadata": {}
    }
   ],
   "execution_count": 6
  },
  {
   "cell_type": "code",
   "metadata": {
    "tags": [],
    "cell_id": "00005-f6e37fea-0646-4f65-8e12-cdac3790ae3c",
    "deepnote_to_be_reexecuted": false,
    "source_hash": "fc4bbecb",
    "execution_start": 1626457578711,
    "execution_millis": 6,
    "deepnote_cell_type": "code"
   },
   "source": "pred_y = {}\nfor i in range(175, 251):\n    pred_y[i] = average\n\npred_y = pd.DataFrame.from_dict(pred_y, orient='index')",
   "outputs": [],
   "execution_count": 7
  },
  {
   "cell_type": "code",
   "metadata": {
    "tags": [],
    "cell_id": "00007-bae2c67d-9410-45b9-8985-56b1f6940fb7",
    "deepnote_to_be_reexecuted": false,
    "source_hash": "b687bf6a",
    "execution_start": 1626457580009,
    "execution_millis": 15,
    "deepnote_cell_type": "code"
   },
   "source": "pred_y",
   "outputs": [
    {
     "output_type": "execute_result",
     "execution_count": 8,
     "data": {
      "application/vnd.deepnote.dataframe.v2+json": {
       "row_count": 76,
       "column_count": 1,
       "columns": [
        {
         "name": 0,
         "dtype": "float64",
         "stats": {
          "unique_count": 1,
          "nan_count": 0,
          "min": "120.4979430114286",
          "max": "120.4979430114286",
          "histogram": [
           {
            "bin_start": 119.9979430114286,
            "bin_end": 120.0979430114286,
            "count": 0
           },
           {
            "bin_start": 120.0979430114286,
            "bin_end": 120.1979430114286,
            "count": 0
           },
           {
            "bin_start": 120.1979430114286,
            "bin_end": 120.2979430114286,
            "count": 0
           },
           {
            "bin_start": 120.2979430114286,
            "bin_end": 120.39794301142861,
            "count": 0
           },
           {
            "bin_start": 120.39794301142861,
            "bin_end": 120.4979430114286,
            "count": 0
           },
           {
            "bin_start": 120.4979430114286,
            "bin_end": 120.5979430114286,
            "count": 76
           },
           {
            "bin_start": 120.5979430114286,
            "bin_end": 120.6979430114286,
            "count": 0
           },
           {
            "bin_start": 120.6979430114286,
            "bin_end": 120.7979430114286,
            "count": 0
           },
           {
            "bin_start": 120.7979430114286,
            "bin_end": 120.89794301142861,
            "count": 0
           },
           {
            "bin_start": 120.89794301142861,
            "bin_end": 120.9979430114286,
            "count": 0
           }
          ]
         }
        },
        {
         "name": "_deepnote_index_column",
         "dtype": "int64"
        }
       ],
       "rows_top": [
        {
         "0": 120.4979430114286,
         "_deepnote_index_column": 175
        },
        {
         "0": 120.4979430114286,
         "_deepnote_index_column": 176
        },
        {
         "0": 120.4979430114286,
         "_deepnote_index_column": 177
        },
        {
         "0": 120.4979430114286,
         "_deepnote_index_column": 178
        },
        {
         "0": 120.4979430114286,
         "_deepnote_index_column": 179
        },
        {
         "0": 120.4979430114286,
         "_deepnote_index_column": 180
        },
        {
         "0": 120.4979430114286,
         "_deepnote_index_column": 181
        },
        {
         "0": 120.4979430114286,
         "_deepnote_index_column": 182
        },
        {
         "0": 120.4979430114286,
         "_deepnote_index_column": 183
        },
        {
         "0": 120.4979430114286,
         "_deepnote_index_column": 184
        },
        {
         "0": 120.4979430114286,
         "_deepnote_index_column": 185
        },
        {
         "0": 120.4979430114286,
         "_deepnote_index_column": 186
        },
        {
         "0": 120.4979430114286,
         "_deepnote_index_column": 187
        },
        {
         "0": 120.4979430114286,
         "_deepnote_index_column": 188
        },
        {
         "0": 120.4979430114286,
         "_deepnote_index_column": 189
        },
        {
         "0": 120.4979430114286,
         "_deepnote_index_column": 190
        },
        {
         "0": 120.4979430114286,
         "_deepnote_index_column": 191
        },
        {
         "0": 120.4979430114286,
         "_deepnote_index_column": 192
        },
        {
         "0": 120.4979430114286,
         "_deepnote_index_column": 193
        },
        {
         "0": 120.4979430114286,
         "_deepnote_index_column": 194
        },
        {
         "0": 120.4979430114286,
         "_deepnote_index_column": 195
        },
        {
         "0": 120.4979430114286,
         "_deepnote_index_column": 196
        },
        {
         "0": 120.4979430114286,
         "_deepnote_index_column": 197
        },
        {
         "0": 120.4979430114286,
         "_deepnote_index_column": 198
        },
        {
         "0": 120.4979430114286,
         "_deepnote_index_column": 199
        },
        {
         "0": 120.4979430114286,
         "_deepnote_index_column": 200
        },
        {
         "0": 120.4979430114286,
         "_deepnote_index_column": 201
        },
        {
         "0": 120.4979430114286,
         "_deepnote_index_column": 202
        },
        {
         "0": 120.4979430114286,
         "_deepnote_index_column": 203
        },
        {
         "0": 120.4979430114286,
         "_deepnote_index_column": 204
        },
        {
         "0": 120.4979430114286,
         "_deepnote_index_column": 205
        },
        {
         "0": 120.4979430114286,
         "_deepnote_index_column": 206
        },
        {
         "0": 120.4979430114286,
         "_deepnote_index_column": 207
        },
        {
         "0": 120.4979430114286,
         "_deepnote_index_column": 208
        },
        {
         "0": 120.4979430114286,
         "_deepnote_index_column": 209
        },
        {
         "0": 120.4979430114286,
         "_deepnote_index_column": 210
        },
        {
         "0": 120.4979430114286,
         "_deepnote_index_column": 211
        },
        {
         "0": 120.4979430114286,
         "_deepnote_index_column": 212
        },
        {
         "0": 120.4979430114286,
         "_deepnote_index_column": 213
        },
        {
         "0": 120.4979430114286,
         "_deepnote_index_column": 214
        },
        {
         "0": 120.4979430114286,
         "_deepnote_index_column": 215
        },
        {
         "0": 120.4979430114286,
         "_deepnote_index_column": 216
        },
        {
         "0": 120.4979430114286,
         "_deepnote_index_column": 217
        },
        {
         "0": 120.4979430114286,
         "_deepnote_index_column": 218
        },
        {
         "0": 120.4979430114286,
         "_deepnote_index_column": 219
        },
        {
         "0": 120.4979430114286,
         "_deepnote_index_column": 220
        },
        {
         "0": 120.4979430114286,
         "_deepnote_index_column": 221
        },
        {
         "0": 120.4979430114286,
         "_deepnote_index_column": 222
        },
        {
         "0": 120.4979430114286,
         "_deepnote_index_column": 223
        },
        {
         "0": 120.4979430114286,
         "_deepnote_index_column": 224
        },
        {
         "0": 120.4979430114286,
         "_deepnote_index_column": 225
        },
        {
         "0": 120.4979430114286,
         "_deepnote_index_column": 226
        },
        {
         "0": 120.4979430114286,
         "_deepnote_index_column": 227
        },
        {
         "0": 120.4979430114286,
         "_deepnote_index_column": 228
        },
        {
         "0": 120.4979430114286,
         "_deepnote_index_column": 229
        },
        {
         "0": 120.4979430114286,
         "_deepnote_index_column": 230
        },
        {
         "0": 120.4979430114286,
         "_deepnote_index_column": 231
        },
        {
         "0": 120.4979430114286,
         "_deepnote_index_column": 232
        },
        {
         "0": 120.4979430114286,
         "_deepnote_index_column": 233
        },
        {
         "0": 120.4979430114286,
         "_deepnote_index_column": 234
        },
        {
         "0": 120.4979430114286,
         "_deepnote_index_column": 235
        },
        {
         "0": 120.4979430114286,
         "_deepnote_index_column": 236
        },
        {
         "0": 120.4979430114286,
         "_deepnote_index_column": 237
        },
        {
         "0": 120.4979430114286,
         "_deepnote_index_column": 238
        },
        {
         "0": 120.4979430114286,
         "_deepnote_index_column": 239
        },
        {
         "0": 120.4979430114286,
         "_deepnote_index_column": 240
        },
        {
         "0": 120.4979430114286,
         "_deepnote_index_column": 241
        },
        {
         "0": 120.4979430114286,
         "_deepnote_index_column": 242
        },
        {
         "0": 120.4979430114286,
         "_deepnote_index_column": 243
        },
        {
         "0": 120.4979430114286,
         "_deepnote_index_column": 244
        },
        {
         "0": 120.4979430114286,
         "_deepnote_index_column": 245
        },
        {
         "0": 120.4979430114286,
         "_deepnote_index_column": 246
        },
        {
         "0": 120.4979430114286,
         "_deepnote_index_column": 247
        },
        {
         "0": 120.4979430114286,
         "_deepnote_index_column": 248
        },
        {
         "0": 120.4979430114286,
         "_deepnote_index_column": 249
        },
        {
         "0": 120.4979430114286,
         "_deepnote_index_column": 250
        }
       ],
       "rows_bottom": null
      },
      "text/plain": "              0\n175  120.497943\n176  120.497943\n177  120.497943\n178  120.497943\n179  120.497943\n..          ...\n246  120.497943\n247  120.497943\n248  120.497943\n249  120.497943\n250  120.497943\n\n[76 rows x 1 columns]",
      "text/html": "<div>\n<style scoped>\n    .dataframe tbody tr th:only-of-type {\n        vertical-align: middle;\n    }\n\n    .dataframe tbody tr th {\n        vertical-align: top;\n    }\n\n    .dataframe thead th {\n        text-align: right;\n    }\n</style>\n<table border=\"1\" class=\"dataframe\">\n  <thead>\n    <tr style=\"text-align: right;\">\n      <th></th>\n      <th>0</th>\n    </tr>\n  </thead>\n  <tbody>\n    <tr>\n      <th>175</th>\n      <td>120.497943</td>\n    </tr>\n    <tr>\n      <th>176</th>\n      <td>120.497943</td>\n    </tr>\n    <tr>\n      <th>177</th>\n      <td>120.497943</td>\n    </tr>\n    <tr>\n      <th>178</th>\n      <td>120.497943</td>\n    </tr>\n    <tr>\n      <th>179</th>\n      <td>120.497943</td>\n    </tr>\n    <tr>\n      <th>...</th>\n      <td>...</td>\n    </tr>\n    <tr>\n      <th>246</th>\n      <td>120.497943</td>\n    </tr>\n    <tr>\n      <th>247</th>\n      <td>120.497943</td>\n    </tr>\n    <tr>\n      <th>248</th>\n      <td>120.497943</td>\n    </tr>\n    <tr>\n      <th>249</th>\n      <td>120.497943</td>\n    </tr>\n    <tr>\n      <th>250</th>\n      <td>120.497943</td>\n    </tr>\n  </tbody>\n</table>\n<p>76 rows × 1 columns</p>\n</div>"
     },
     "metadata": {}
    }
   ],
   "execution_count": 8
  },
  {
   "cell_type": "code",
   "metadata": {
    "tags": [],
    "cell_id": "00008-69985baa-8460-4612-b75c-cf3285a6a072",
    "deepnote_to_be_reexecuted": false,
    "source_hash": "e49aa0f3",
    "execution_start": 1626459922644,
    "execution_millis": 5,
    "deepnote_cell_type": "code"
   },
   "source": "pred_y = pred_y.rename(columns={\"predicted prices\": \"mean\"})",
   "outputs": [],
   "execution_count": 51
  },
  {
   "cell_type": "code",
   "metadata": {
    "tags": [],
    "cell_id": "00009-324e5597-cebe-4f1c-abb7-1cb00789c997",
    "deepnote_to_be_reexecuted": false,
    "source_hash": "b687bf6a",
    "execution_start": 1626457590359,
    "execution_millis": 18,
    "deepnote_cell_type": "code"
   },
   "source": "pred_y",
   "outputs": [
    {
     "output_type": "execute_result",
     "execution_count": 12,
     "data": {
      "application/vnd.deepnote.dataframe.v2+json": {
       "row_count": 76,
       "column_count": 1,
       "columns": [
        {
         "name": "predicted prices",
         "dtype": "float64",
         "stats": {
          "unique_count": 1,
          "nan_count": 0,
          "min": "120.4979430114286",
          "max": "120.4979430114286",
          "histogram": [
           {
            "bin_start": 119.9979430114286,
            "bin_end": 120.0979430114286,
            "count": 0
           },
           {
            "bin_start": 120.0979430114286,
            "bin_end": 120.1979430114286,
            "count": 0
           },
           {
            "bin_start": 120.1979430114286,
            "bin_end": 120.2979430114286,
            "count": 0
           },
           {
            "bin_start": 120.2979430114286,
            "bin_end": 120.39794301142861,
            "count": 0
           },
           {
            "bin_start": 120.39794301142861,
            "bin_end": 120.4979430114286,
            "count": 0
           },
           {
            "bin_start": 120.4979430114286,
            "bin_end": 120.5979430114286,
            "count": 76
           },
           {
            "bin_start": 120.5979430114286,
            "bin_end": 120.6979430114286,
            "count": 0
           },
           {
            "bin_start": 120.6979430114286,
            "bin_end": 120.7979430114286,
            "count": 0
           },
           {
            "bin_start": 120.7979430114286,
            "bin_end": 120.89794301142861,
            "count": 0
           },
           {
            "bin_start": 120.89794301142861,
            "bin_end": 120.9979430114286,
            "count": 0
           }
          ]
         }
        },
        {
         "name": "_deepnote_index_column",
         "dtype": "int64"
        }
       ],
       "rows_top": [
        {
         "predicted prices": 120.4979430114286,
         "_deepnote_index_column": 175
        },
        {
         "predicted prices": 120.4979430114286,
         "_deepnote_index_column": 176
        },
        {
         "predicted prices": 120.4979430114286,
         "_deepnote_index_column": 177
        },
        {
         "predicted prices": 120.4979430114286,
         "_deepnote_index_column": 178
        },
        {
         "predicted prices": 120.4979430114286,
         "_deepnote_index_column": 179
        },
        {
         "predicted prices": 120.4979430114286,
         "_deepnote_index_column": 180
        },
        {
         "predicted prices": 120.4979430114286,
         "_deepnote_index_column": 181
        },
        {
         "predicted prices": 120.4979430114286,
         "_deepnote_index_column": 182
        },
        {
         "predicted prices": 120.4979430114286,
         "_deepnote_index_column": 183
        },
        {
         "predicted prices": 120.4979430114286,
         "_deepnote_index_column": 184
        },
        {
         "predicted prices": 120.4979430114286,
         "_deepnote_index_column": 185
        },
        {
         "predicted prices": 120.4979430114286,
         "_deepnote_index_column": 186
        },
        {
         "predicted prices": 120.4979430114286,
         "_deepnote_index_column": 187
        },
        {
         "predicted prices": 120.4979430114286,
         "_deepnote_index_column": 188
        },
        {
         "predicted prices": 120.4979430114286,
         "_deepnote_index_column": 189
        },
        {
         "predicted prices": 120.4979430114286,
         "_deepnote_index_column": 190
        },
        {
         "predicted prices": 120.4979430114286,
         "_deepnote_index_column": 191
        },
        {
         "predicted prices": 120.4979430114286,
         "_deepnote_index_column": 192
        },
        {
         "predicted prices": 120.4979430114286,
         "_deepnote_index_column": 193
        },
        {
         "predicted prices": 120.4979430114286,
         "_deepnote_index_column": 194
        },
        {
         "predicted prices": 120.4979430114286,
         "_deepnote_index_column": 195
        },
        {
         "predicted prices": 120.4979430114286,
         "_deepnote_index_column": 196
        },
        {
         "predicted prices": 120.4979430114286,
         "_deepnote_index_column": 197
        },
        {
         "predicted prices": 120.4979430114286,
         "_deepnote_index_column": 198
        },
        {
         "predicted prices": 120.4979430114286,
         "_deepnote_index_column": 199
        },
        {
         "predicted prices": 120.4979430114286,
         "_deepnote_index_column": 200
        },
        {
         "predicted prices": 120.4979430114286,
         "_deepnote_index_column": 201
        },
        {
         "predicted prices": 120.4979430114286,
         "_deepnote_index_column": 202
        },
        {
         "predicted prices": 120.4979430114286,
         "_deepnote_index_column": 203
        },
        {
         "predicted prices": 120.4979430114286,
         "_deepnote_index_column": 204
        },
        {
         "predicted prices": 120.4979430114286,
         "_deepnote_index_column": 205
        },
        {
         "predicted prices": 120.4979430114286,
         "_deepnote_index_column": 206
        },
        {
         "predicted prices": 120.4979430114286,
         "_deepnote_index_column": 207
        },
        {
         "predicted prices": 120.4979430114286,
         "_deepnote_index_column": 208
        },
        {
         "predicted prices": 120.4979430114286,
         "_deepnote_index_column": 209
        },
        {
         "predicted prices": 120.4979430114286,
         "_deepnote_index_column": 210
        },
        {
         "predicted prices": 120.4979430114286,
         "_deepnote_index_column": 211
        },
        {
         "predicted prices": 120.4979430114286,
         "_deepnote_index_column": 212
        },
        {
         "predicted prices": 120.4979430114286,
         "_deepnote_index_column": 213
        },
        {
         "predicted prices": 120.4979430114286,
         "_deepnote_index_column": 214
        },
        {
         "predicted prices": 120.4979430114286,
         "_deepnote_index_column": 215
        },
        {
         "predicted prices": 120.4979430114286,
         "_deepnote_index_column": 216
        },
        {
         "predicted prices": 120.4979430114286,
         "_deepnote_index_column": 217
        },
        {
         "predicted prices": 120.4979430114286,
         "_deepnote_index_column": 218
        },
        {
         "predicted prices": 120.4979430114286,
         "_deepnote_index_column": 219
        },
        {
         "predicted prices": 120.4979430114286,
         "_deepnote_index_column": 220
        },
        {
         "predicted prices": 120.4979430114286,
         "_deepnote_index_column": 221
        },
        {
         "predicted prices": 120.4979430114286,
         "_deepnote_index_column": 222
        },
        {
         "predicted prices": 120.4979430114286,
         "_deepnote_index_column": 223
        },
        {
         "predicted prices": 120.4979430114286,
         "_deepnote_index_column": 224
        },
        {
         "predicted prices": 120.4979430114286,
         "_deepnote_index_column": 225
        },
        {
         "predicted prices": 120.4979430114286,
         "_deepnote_index_column": 226
        },
        {
         "predicted prices": 120.4979430114286,
         "_deepnote_index_column": 227
        },
        {
         "predicted prices": 120.4979430114286,
         "_deepnote_index_column": 228
        },
        {
         "predicted prices": 120.4979430114286,
         "_deepnote_index_column": 229
        },
        {
         "predicted prices": 120.4979430114286,
         "_deepnote_index_column": 230
        },
        {
         "predicted prices": 120.4979430114286,
         "_deepnote_index_column": 231
        },
        {
         "predicted prices": 120.4979430114286,
         "_deepnote_index_column": 232
        },
        {
         "predicted prices": 120.4979430114286,
         "_deepnote_index_column": 233
        },
        {
         "predicted prices": 120.4979430114286,
         "_deepnote_index_column": 234
        },
        {
         "predicted prices": 120.4979430114286,
         "_deepnote_index_column": 235
        },
        {
         "predicted prices": 120.4979430114286,
         "_deepnote_index_column": 236
        },
        {
         "predicted prices": 120.4979430114286,
         "_deepnote_index_column": 237
        },
        {
         "predicted prices": 120.4979430114286,
         "_deepnote_index_column": 238
        },
        {
         "predicted prices": 120.4979430114286,
         "_deepnote_index_column": 239
        },
        {
         "predicted prices": 120.4979430114286,
         "_deepnote_index_column": 240
        },
        {
         "predicted prices": 120.4979430114286,
         "_deepnote_index_column": 241
        },
        {
         "predicted prices": 120.4979430114286,
         "_deepnote_index_column": 242
        },
        {
         "predicted prices": 120.4979430114286,
         "_deepnote_index_column": 243
        },
        {
         "predicted prices": 120.4979430114286,
         "_deepnote_index_column": 244
        },
        {
         "predicted prices": 120.4979430114286,
         "_deepnote_index_column": 245
        },
        {
         "predicted prices": 120.4979430114286,
         "_deepnote_index_column": 246
        },
        {
         "predicted prices": 120.4979430114286,
         "_deepnote_index_column": 247
        },
        {
         "predicted prices": 120.4979430114286,
         "_deepnote_index_column": 248
        },
        {
         "predicted prices": 120.4979430114286,
         "_deepnote_index_column": 249
        },
        {
         "predicted prices": 120.4979430114286,
         "_deepnote_index_column": 250
        }
       ],
       "rows_bottom": null
      },
      "text/plain": "     predicted prices\n175        120.497943\n176        120.497943\n177        120.497943\n178        120.497943\n179        120.497943\n..                ...\n246        120.497943\n247        120.497943\n248        120.497943\n249        120.497943\n250        120.497943\n\n[76 rows x 1 columns]",
      "text/html": "<div>\n<style scoped>\n    .dataframe tbody tr th:only-of-type {\n        vertical-align: middle;\n    }\n\n    .dataframe tbody tr th {\n        vertical-align: top;\n    }\n\n    .dataframe thead th {\n        text-align: right;\n    }\n</style>\n<table border=\"1\" class=\"dataframe\">\n  <thead>\n    <tr style=\"text-align: right;\">\n      <th></th>\n      <th>predicted prices</th>\n    </tr>\n  </thead>\n  <tbody>\n    <tr>\n      <th>175</th>\n      <td>120.497943</td>\n    </tr>\n    <tr>\n      <th>176</th>\n      <td>120.497943</td>\n    </tr>\n    <tr>\n      <th>177</th>\n      <td>120.497943</td>\n    </tr>\n    <tr>\n      <th>178</th>\n      <td>120.497943</td>\n    </tr>\n    <tr>\n      <th>179</th>\n      <td>120.497943</td>\n    </tr>\n    <tr>\n      <th>...</th>\n      <td>...</td>\n    </tr>\n    <tr>\n      <th>246</th>\n      <td>120.497943</td>\n    </tr>\n    <tr>\n      <th>247</th>\n      <td>120.497943</td>\n    </tr>\n    <tr>\n      <th>248</th>\n      <td>120.497943</td>\n    </tr>\n    <tr>\n      <th>249</th>\n      <td>120.497943</td>\n    </tr>\n    <tr>\n      <th>250</th>\n      <td>120.497943</td>\n    </tr>\n  </tbody>\n</table>\n<p>76 rows × 1 columns</p>\n</div>"
     },
     "metadata": {}
    }
   ],
   "execution_count": 12
  },
  {
   "cell_type": "code",
   "metadata": {
    "tags": [],
    "cell_id": "00001-b75c6d50-a607-4aea-92f7-e3d6329421b8",
    "deepnote_to_be_reexecuted": false,
    "source_hash": "41874cf5",
    "execution_start": 1626459593619,
    "execution_millis": 190,
    "deepnote_cell_type": "code"
   },
   "source": "\nax = temp.plot(label='observed')\npred_y.plot(ax=ax, label='predicted price', alpha=.7)\n\n# ax.fill_between(pred_y.index,\n#                 pred_y.iloc[:, 0],\n#                 pred_y.iloc[:, 1], color='k', alpha=.2)\n\nax.set_xlabel('Date')\nax.set_ylabel('stock prices')\nplt.legend()\nplt.title('WLTW Stock Price Prediction')\n\nplt.show()",
   "outputs": [
    {
     "data": {
      "text/plain": "<Figure size 432x288 with 1 Axes>",
      "image/png": "[encoded data removed]"
     },
     "metadata": {
      "needs_background": "light",
      "image/png": {
       "width": 389,
       "height": 278
      }
     },
     "output_type": "display_data"
    }
   ],
   "execution_count": 42
  },
  {
   "cell_type": "code",
   "metadata": {
    "tags": [],
    "cell_id": "00006-e8011720-d422-4057-9d73-b3f55dbf85a1",
    "deepnote_to_be_reexecuted": false,
    "source_hash": "8c22d871",
    "execution_start": 1626458388494,
    "execution_millis": 282,
    "deepnote_cell_type": "code"
   },
   "source": " \nn = temp.shape[0]\n\n# define X\ntemp_price = temp.squeeze()\n\n# split test, train set \ntrain_size = int(n * 0.7)\ntest_size = n - train_size\n\ntrain_X = temp_price.iloc[ : train_size] \ntrue_y = temp_price.iloc[train_size : n]\n\n\nbest_mod = ARMA(train_X, order=(1,4))\nbest_res = best_mod.fit()\nbest_result = best_res.predict(start = train_size, end = (n-1)).tolist()",
   "outputs": [
    {
     "name": "stderr",
     "text": "/root/venv/lib/python3.7/site-packages/statsmodels/tsa/arima_model.py:472: FutureWarning: \nstatsmodels.tsa.arima_model.ARMA and statsmodels.tsa.arima_model.ARIMA have\nbeen deprecated in favor of statsmodels.tsa.arima.model.ARIMA (note the .\nbetween arima and model) and\nstatsmodels.tsa.SARIMAX. These will be removed after the 0.12 release.\n\nstatsmodels.tsa.arima.model.ARIMA makes use of the statespace framework and\nis both well tested and maintained.\n\nTo silence this warning and continue using ARMA and ARIMA until they are\nremoved, use:\n\nimport warnings\nwarnings.filterwarnings('ignore', 'statsmodels.tsa.arima_model.ARMA',\n                        FutureWarning)\nwarnings.filterwarnings('ignore', 'statsmodels.tsa.arima_model.ARIMA',\n                        FutureWarning)\n\n  warnings.warn(ARIMA_DEPRECATION_WARN, FutureWarning)\n",
     "output_type": "stream"
    }
   ],
   "execution_count": 18
  },
  {
   "cell_type": "code",
   "metadata": {
    "tags": [],
    "cell_id": "00012-e1419420-5d10-4f16-aa2e-de6bd06eed95",
    "deepnote_to_be_reexecuted": false,
    "source_hash": "be392639",
    "execution_start": 1626458473336,
    "execution_millis": 4,
    "deepnote_cell_type": "code"
   },
   "source": "pred_y_1 = {}\nfor i in range(len(best_result)):\n    pred_y_1[175+i] = best_result[i]\n\npred_y_1 = pd.DataFrame.from_dict(pred_y_1, orient='index')",
   "outputs": [],
   "execution_count": 20
  },
  {
   "cell_type": "code",
   "metadata": {
    "tags": [],
    "cell_id": "00013-caedf8a9-1818-465c-9da2-20e67d240424",
    "deepnote_to_be_reexecuted": false,
    "source_hash": "244b9787",
    "execution_start": 1626459906972,
    "execution_millis": 0,
    "deepnote_cell_type": "code"
   },
   "source": "pred_y_1 = pred_y_1.rename(columns={\"predicted prices\": \"ARMA\"})",
   "outputs": [],
   "execution_count": 49
  },
  {
   "cell_type": "code",
   "metadata": {
    "tags": [],
    "cell_id": "00013-e9e111c1-b879-44c5-9b12-4109db670d35",
    "deepnote_to_be_reexecuted": false,
    "source_hash": "691378f3",
    "execution_start": 1626459907481,
    "execution_millis": 25,
    "deepnote_cell_type": "code"
   },
   "source": "pred_y_1",
   "outputs": [
    {
     "output_type": "execute_result",
     "execution_count": 50,
     "data": {
      "application/vnd.deepnote.dataframe.v2+json": {
       "row_count": 76,
       "column_count": 1,
       "columns": [
        {
         "name": "ARMA",
         "dtype": "float64",
         "stats": {
          "unique_count": 76,
          "nan_count": 0,
          "min": "121.19419280765",
          "max": "124.36751540933632",
          "histogram": [
           {
            "bin_start": 121.19419280765,
            "bin_end": 121.51152506781862,
            "count": 28
           },
           {
            "bin_start": 121.51152506781862,
            "bin_end": 121.82885732798727,
            "count": 13
           },
           {
            "bin_start": 121.82885732798727,
            "bin_end": 122.14618958815589,
            "count": 8
           },
           {
            "bin_start": 122.14618958815589,
            "bin_end": 122.46352184832453,
            "count": 7
           },
           {
            "bin_start": 122.46352184832453,
            "bin_end": 122.78085410849316,
            "count": 5
           },
           {
            "bin_start": 122.78085410849316,
            "bin_end": 123.09818636866179,
            "count": 4
           },
           {
            "bin_start": 123.09818636866179,
            "bin_end": 123.41551862883043,
            "count": 3
           },
           {
            "bin_start": 123.41551862883043,
            "bin_end": 123.73285088899905,
            "count": 3
           },
           {
            "bin_start": 123.73285088899905,
            "bin_end": 124.0501831491677,
            "count": 2
           },
           {
            "bin_start": 124.0501831491677,
            "bin_end": 124.36751540933632,
            "count": 3
           }
          ]
         }
        },
        {
         "name": "_deepnote_index_column",
         "dtype": "int64"
        }
       ],
       "rows_top": [
        {
         "ARMA": 124.36751540933632,
         "_deepnote_index_column": 175
        },
        {
         "ARMA": 124.19366241854468,
         "_deepnote_index_column": 176
        },
        {
         "ARMA": 124.15994394808682,
         "_deepnote_index_column": 177
        },
        {
         "ARMA": 123.8790520584066,
         "_deepnote_index_column": 178
        },
        {
         "ARMA": 123.76554231960941,
         "_deepnote_index_column": 179
        },
        {
         "ARMA": 123.65657854074354,
         "_deepnote_index_column": 180
        },
        {
         "ARMA": 123.55197866032319,
         "_deepnote_index_column": 181
        },
        {
         "ARMA": 123.4515679082565,
         "_deepnote_index_column": 182
        },
        {
         "ARMA": 123.35517851383193,
         "_deepnote_index_column": 183
        },
        {
         "ARMA": 123.26264942539962,
         "_deepnote_index_column": 184
        },
        {
         "ARMA": 123.17382604127911,
         "_deepnote_index_column": 185
        },
        {
         "ARMA": 123.08855995144415,
         "_deepnote_index_column": 186
        },
        {
         "ARMA": 123.00670868955257,
         "_deepnote_index_column": 187
        },
        {
         "ARMA": 122.92813549490727,
         "_deepnote_index_column": 188
        },
        {
         "ARMA": 122.85270908395047,
         "_deepnote_index_column": 189
        },
        {
         "ARMA": 122.7803034309093,
         "_deepnote_index_column": 190
        },
        {
         "ARMA": 122.7107975572264,
         "_deepnote_index_column": 191
        },
        {
         "ARMA": 122.64407532942359,
         "_deepnote_index_column": 192
        },
        {
         "ARMA": 122.58002526506097,
         "_deepnote_index_column": 193
        },
        {
         "ARMA": 122.51854034646712,
         "_deepnote_index_column": 194
        },
        {
         "ARMA": 122.45951784192928,
         "_deepnote_index_column": 195
        },
        {
         "ARMA": 122.40285913404465,
         "_deepnote_index_column": 196
        },
        {
         "ARMA": 122.34846955494608,
         "_deepnote_index_column": 197
        },
        {
         "ARMA": 122.29625822812686,
         "_deepnote_index_column": 198
        },
        {
         "ARMA": 122.24613791660022,
         "_deepnote_index_column": 199
        },
        {
         "ARMA": 122.19802487713991,
         "_deepnote_index_column": 200
        },
        {
         "ARMA": 122.15183872035838,
         "_deepnote_index_column": 201
        },
        {
         "ARMA": 122.10750227638859,
         "_deepnote_index_column": 202
        },
        {
         "ARMA": 122.06494146594521,
         "_deepnote_index_column": 203
        },
        {
         "ARMA": 122.02408517654972,
         "_deepnote_index_column": 204
        },
        {
         "ARMA": 121.9848651437125,
         "_deepnote_index_column": 205
        },
        {
         "ARMA": 121.94721583687353,
         "_deepnote_index_column": 206
        },
        {
         "ARMA": 121.91107434991102,
         "_deepnote_index_column": 207
        },
        {
         "ARMA": 121.87638029603515,
         "_deepnote_index_column": 208
        },
        {
         "ARMA": 121.84307570689107,
         "_deepnote_index_column": 209
        },
        {
         "ARMA": 121.8111049357029,
         "_deepnote_index_column": 210
        },
        {
         "ARMA": 121.78041456429659,
         "_deepnote_index_column": 211
        },
        {
         "ARMA": 121.7509533138465,
         "_deepnote_index_column": 212
        },
        {
         "ARMA": 121.72267195919646,
         "_deepnote_index_column": 213
        },
        {
         "ARMA": 121.69552324661225,
         "_deepnote_index_column": 214
        },
        {
         "ARMA": 121.66946181482793,
         "_deepnote_index_column": 215
        },
        {
         "ARMA": 121.64444411925426,
         "_deepnote_index_column": 216
        },
        {
         "ARMA": 121.62042835922247,
         "_deepnote_index_column": 217
        },
        {
         "ARMA": 121.5973744081419,
         "_deepnote_index_column": 218
        },
        {
         "ARMA": 121.57524374645466,
         "_deepnote_index_column": 219
        },
        {
         "ARMA": 121.55399939727549,
         "_deepnote_index_column": 220
        },
        {
         "ARMA": 121.53360586460914,
         "_deepnote_index_column": 221
        },
        {
         "ARMA": 121.51402907404213,
         "_deepnote_index_column": 222
        },
        {
         "ARMA": 121.49523631580963,
         "_deepnote_index_column": 223
        },
        {
         "ARMA": 121.47719619014268,
         "_deepnote_index_column": 224
        },
        {
         "ARMA": 121.45987855480392,
         "_deepnote_index_column": 225
        },
        {
         "ARMA": 121.44325447472474,
         "_deepnote_index_column": 226
        },
        {
         "ARMA": 121.4272961736592,
         "_deepnote_index_column": 227
        },
        {
         "ARMA": 121.4119769877743,
         "_deepnote_index_column": 228
        },
        {
         "ARMA": 121.39727132109886,
         "_deepnote_index_column": 229
        },
        {
         "ARMA": 121.38315460275665,
         "_deepnote_index_column": 230
        },
        {
         "ARMA": 121.36960324591227,
         "_deepnote_index_column": 231
        },
        {
         "ARMA": 121.35659460836125,
         "_deepnote_index_column": 232
        },
        {
         "ARMA": 121.34410695469843,
         "_deepnote_index_column": 233
        },
        {
         "ARMA": 121.33211942000152,
         "_deepnote_index_column": 234
        },
        {
         "ARMA": 121.32061197496903,
         "_deepnote_index_column": 235
        },
        {
         "ARMA": 121.30956539245445,
         "_deepnote_index_column": 236
        },
        {
         "ARMA": 121.29896121534068,
         "_deepnote_index_column": 237
        },
        {
         "ARMA": 121.2887817257011,
         "_deepnote_index_column": 238
        },
        {
         "ARMA": 121.27900991519559,
         "_deepnote_index_column": 239
        },
        {
         "ARMA": 121.26962945665235,
         "_deepnote_index_column": 240
        },
        {
         "ARMA": 121.26062467678767,
         "_deepnote_index_column": 241
        },
        {
         "ARMA": 121.25198053001834,
         "_deepnote_index_column": 242
        },
        {
         "ARMA": 121.24368257332284,
         "_deepnote_index_column": 243
        },
        {
         "ARMA": 121.23571694210926,
         "_deepnote_index_column": 244
        },
        {
         "ARMA": 121.22807032704979,
         "_deepnote_index_column": 245
        },
        {
         "ARMA": 121.22072995184286,
         "_deepnote_index_column": 246
        },
        {
         "ARMA": 121.21368355186593,
         "_deepnote_index_column": 247
        },
        {
         "ARMA": 121.20691935368326,
         "_deepnote_index_column": 248
        },
        {
         "ARMA": 121.20042605537432,
         "_deepnote_index_column": 249
        },
        {
         "ARMA": 121.19419280765,
         "_deepnote_index_column": 250
        }
       ],
       "rows_bottom": null
      },
      "text/plain": "           ARMA\n175  124.367515\n176  124.193662\n177  124.159944\n178  123.879052\n179  123.765542\n..          ...\n246  121.220730\n247  121.213684\n248  121.206919\n249  121.200426\n250  121.194193\n\n[76 rows x 1 columns]",
      "text/html": "<div>\n<style scoped>\n    .dataframe tbody tr th:only-of-type {\n        vertical-align: middle;\n    }\n\n    .dataframe tbody tr th {\n        vertical-align: top;\n    }\n\n    .dataframe thead th {\n        text-align: right;\n    }\n</style>\n<table border=\"1\" class=\"dataframe\">\n  <thead>\n    <tr style=\"text-align: right;\">\n      <th></th>\n      <th>ARMA</th>\n    </tr>\n  </thead>\n  <tbody>\n    <tr>\n      <th>175</th>\n      <td>124.367515</td>\n    </tr>\n    <tr>\n      <th>176</th>\n      <td>124.193662</td>\n    </tr>\n    <tr>\n      <th>177</th>\n      <td>124.159944</td>\n    </tr>\n    <tr>\n      <th>178</th>\n      <td>123.879052</td>\n    </tr>\n    <tr>\n      <th>179</th>\n      <td>123.765542</td>\n    </tr>\n    <tr>\n      <th>...</th>\n      <td>...</td>\n    </tr>\n    <tr>\n      <th>246</th>\n      <td>121.220730</td>\n    </tr>\n    <tr>\n      <th>247</th>\n      <td>121.213684</td>\n    </tr>\n    <tr>\n      <th>248</th>\n      <td>121.206919</td>\n    </tr>\n    <tr>\n      <th>249</th>\n      <td>121.200426</td>\n    </tr>\n    <tr>\n      <th>250</th>\n      <td>121.194193</td>\n    </tr>\n  </tbody>\n</table>\n<p>76 rows × 1 columns</p>\n</div>"
     },
     "metadata": {}
    }
   ],
   "execution_count": 50
  },
  {
   "cell_type": "code",
   "metadata": {
    "tags": [],
    "cell_id": "00012-970cf564-c724-4138-b8e2-a16b53c89ff9",
    "deepnote_to_be_reexecuted": false,
    "source_hash": "6f80d62d",
    "execution_start": 1626459618944,
    "execution_millis": 204,
    "deepnote_cell_type": "code"
   },
   "source": "ax = temp.plot(label='observed')\npred_y_1.plot(ax=ax, label='predicted price', alpha=.7)\n\n# ax.fill_between(pred_y.index,\n#                 pred_y.iloc[:, 0],\n#                 pred_y.iloc[:, 1], color='k', alpha=.2)\n\nax.set_xlabel('Date')\nax.set_ylabel('stock prices')\nplt.legend()\nplt.title('WLTW Stock Price Prediction')\n\nplt.show()",
   "outputs": [
    {
     "data": {
      "text/plain": "<Figure size 432x288 with 1 Axes>",
      "image/png": "[encoded data removed]"
     },
     "metadata": {
      "needs_background": "light",
      "image/png": {
       "width": 389,
       "height": 278
      }
     },
     "output_type": "display_data"
    }
   ],
   "execution_count": 43
  },
  {
   "cell_type": "code",
   "metadata": {
    "tags": [],
    "cell_id": "00014-105347f2-49ad-4acc-bd9b-e6938432d4fd",
    "deepnote_to_be_reexecuted": false,
    "source_hash": "5c4bd126",
    "execution_start": 1626458606326,
    "execution_millis": 3,
    "deepnote_cell_type": "code"
   },
   "source": "def create_dataset(dataset, look_back=1):\n\tdataX, dataY = [], []\n\tfor i in range(len(dataset)-look_back-1):\n\t\ta = dataset[i:(i+look_back), 0]\n\t\tdataX.append(a)\n\t\tdataY.append(dataset[i + look_back, 0])\n\treturn np.array(dataX), np.array(dataY)",
   "outputs": [],
   "execution_count": 28
  },
  {
   "cell_type": "code",
   "metadata": {
    "tags": [],
    "cell_id": "00017-d5251268-b16a-45f9-922d-85b6e2b88bb3",
    "deepnote_to_be_reexecuted": false,
    "source_hash": "b3dc4e7a",
    "execution_start": 1626459088919,
    "execution_millis": 10,
    "deepnote_cell_type": "code"
   },
   "source": "temp.values",
   "outputs": [
    {
     "output_type": "execute_result",
     "execution_count": 33,
     "data": {
      "text/plain": "array([123.43    , 125.239998, 116.379997, 115.480003, 117.010002,\n       115.510002, 116.459999, 113.510002, 113.330002, 113.660004,\n       109.059998, 109.730003, 111.879997, 111.32    , 110.419998,\n       110.769997, 110.900002, 113.349998, 114.      , 113.25    ,\n       113.379997, 114.080002, 115.120003, 113.300003, 111.169998,\n       106.730003, 105.629997, 108.559998, 109.110001, 110.830002,\n       111.120003, 111.370003, 111.360001, 112.370003, 110.769997,\n       111.599998, 113.339996, 113.040001, 114.269997, 115.349998,\n       116.489998, 116.610001, 116.050003, 116.5     , 117.050003,\n       116.910004, 117.93    , 120.419998, 119.839996, 120.349998,\n       121.010002, 124.25    , 120.860001, 121.029999, 121.470001,\n       118.889999, 119.510002, 117.989998, 118.400002, 118.779999,\n       118.080002, 119.660004, 116.400002, 114.089996, 114.739998,\n       114.879997, 114.110001, 114.989998, 115.809998, 118.160004,\n       117.5     , 118.32    , 121.349998, 121.099998, 122.610001,\n       123.480003, 123.199997, 123.959999, 124.589996, 123.540001,\n       123.800003, 125.440002, 124.559998, 125.389999, 126.660004,\n       127.360001, 122.279999, 123.889999, 125.699997, 124.440002,\n       123.910004, 123.120003, 123.400002, 123.220001, 124.519997,\n       125.150002, 125.480003, 126.129997, 127.080002, 126.360001,\n       126.510002, 128.5     , 127.669998, 127.989998, 127.809998,\n       127.699997, 128.050003, 128.990005, 128.729996, 128.869995,\n       127.099998, 124.720001, 125.949997, 123.339996, 124.669998,\n       126.510002, 126.540001, 127.089996, 127.940002, 121.      ,\n       114.660004, 113.809998, 118.339996, 121.360001, 124.480003,\n       120.190002, 123.32    , 124.279999, 126.040001, 125.099998,\n       125.889999, 127.610001, 127.620003, 126.400002, 124.830002,\n       123.199997, 124.510002, 123.68    , 123.220001, 123.57    ,\n       124.290001, 123.830002, 124.010002, 123.419998, 123.870003,\n       123.610001, 123.510002, 123.559998, 121.730003, 119.57    ,\n       120.290001, 121.650002, 121.860001, 122.510002, 122.      ,\n       121.370003, 121.900002, 121.739998, 122.099998, 122.550003,\n       123.239998, 123.099998, 121.809998, 122.580002, 123.150002,\n       124.18    , 123.989998, 124.      , 125.5     , 126.82    ,\n       127.660004, 127.860001, 124.389999, 121.709999, 124.      ,\n       122.900002, 122.230003, 124.230003, 124.599998, 125.93    ,\n       125.870003, 129.      , 128.710007, 127.809998, 128.419998,\n       128.639999, 128.089996, 129.169998, 132.449997, 132.      ,\n       131.380005, 131.820007, 132.309998, 131.940002, 130.520004,\n       129.029999, 128.940002, 128.690002, 128.649994, 128.550003,\n       128.460007, 127.379997, 126.339996, 127.330002, 127.089996,\n       126.129997, 126.650002, 125.889999, 126.260002, 126.519997,\n       124.489998, 123.120003, 120.239998, 119.120003, 117.129997,\n       117.010002, 118.669998, 121.550003, 120.959999, 123.730003,\n       123.169998, 122.790001, 124.790001, 125.099998, 124.370003,\n       124.82    , 124.550003, 124.82    , 124.760002, 125.5     ,\n       125.099998, 121.43    , 120.690002, 121.480003, 124.900002,\n       125.190002, 122.800003, 122.639999, 126.449997, 124.      ,\n       122.800003, 122.440002, 122.32    , 124.330002, 123.900002,\n       122.519997, 123.089996, 124.57    , 124.300003, 122.449997,\n       122.589996])"
     },
     "metadata": {}
    }
   ],
   "execution_count": 33
  },
  {
   "cell_type": "code",
   "metadata": {
    "tags": [],
    "cell_id": "00017-7839c9e5-9fea-437a-aa12-bc9c9e19d3a3",
    "deepnote_to_be_reexecuted": false,
    "source_hash": "f3552a4e",
    "execution_start": 1626459185191,
    "execution_millis": 22114,
    "deepnote_cell_type": "code"
   },
   "source": "temp = pd.DataFrame(adjusted[adjusted['symbol'] == 'WLTW']['open'])\ndataset = temp.values\ndataset = dataset.astype('float32')\nscaler = MinMaxScaler(feature_range=(0, 1))\ndataset = scaler.fit_transform(dataset)\nprint(len(dataset))\n\n    \ntrain_size = int(len(dataset) * 0.7)\ntest_size = len(dataset) - train_size\ntrain, test = dataset[0:train_size,:], dataset[train_size:len(dataset),:]\n    \nlook_back = 1\ntrainX, trainY = create_dataset(train, look_back)\ntestX, testY = create_dataset(test, look_back)\n\n    \ntrainX = np.reshape(trainX, (trainX.shape[0], 1, trainX.shape[1]))\ntestX = np.reshape(testX, (testX.shape[0], 1, testX.shape[1]))\n\n    \nmodel = Sequential()\nmodel.add(LSTM(4, input_shape=(1, look_back)))\nmodel.add(Dense(1))\nmodel.compile(loss='mean_squared_error', optimizer='adam')\nmodel.fit(trainX, trainY, epochs=100, batch_size=1, verbose=2)\n\n    \ntrainPredict = model.predict(trainX)\ntestPredict = model.predict(testX)\n    \ntrainPredict = scaler.inverse_transform(trainPredict)\ntrainY = scaler.inverse_transform([trainY])\ntestPredict = scaler.inverse_transform(testPredict)\ntestY = scaler.inverse_transform([testY])\n\n    # #evaluation \n    # best_mse = math.sqrt(mean_squared_error(testY[0], testPredict[:,0]))\n    # best_mape = mean_absolute_percentage_error(testY[0], testPredict[:,0])\n\n    # # store the result in the dataframe evaluation\n    # evaluation.loc[evaluation['stock name'] == stock, 'model_3 mse'] = best_mse\n    # evaluation.loc[evaluation['stock name'] == stock, 'model_3 mape'] = best_mape",
   "outputs": [
    {
     "name": "stdout",
     "text": "251\n2021-07-16 18:13:05.207391: I tensorflow/compiler/jit/xla_cpu_device.cc:41] Not creating XLA devices, tf_xla_enable_xla_devices not set\n2021-07-16 18:13:05.209553: W tensorflow/stream_executor/platform/default/dso_loader.cc:60] Could not load dynamic library 'libcuda.so.1'; dlerror: libcuda.so.1: cannot open shared object file: No such file or directory\n2021-07-16 18:13:05.209574: W tensorflow/stream_executor/cuda/cuda_driver.cc:326] failed call to cuInit: UNKNOWN ERROR (303)\n2021-07-16 18:13:05.209600: I tensorflow/stream_executor/cuda/cuda_diagnostics.cc:156] kernel driver does not appear to be running on this host (p-fb4937d9-4ef1-4542-bee6-529d5ac2a998): /proc/driver/nvidia/version does not exist\n2021-07-16 18:13:05.210635: I tensorflow/core/platform/cpu_feature_guard.cc:142] This TensorFlow binary is optimized with oneAPI Deep Neural Network Library (oneDNN) to use the following CPU instructions in performance-critical operations:  AVX2 AVX512F FMA\nTo enable them in other operations, rebuild TensorFlow with the appropriate compiler flags.\n2021-07-16 18:13:05.210831: I tensorflow/compiler/jit/xla_gpu_device.cc:99] Not creating XLA devices, tf_xla_enable_xla_devices not set\n2021-07-16 18:13:05.560264: I tensorflow/compiler/mlir/mlir_graph_optimization_pass.cc:116] None of the MLIR optimization passes are enabled (registered 2)\n2021-07-16 18:13:05.586089: I tensorflow/core/platform/profile_utils/cpu_utils.cc:112] CPU Frequency: 2499995000 Hz\nEpoch 1/100\n173/173 - 1s - loss: 0.2083\nEpoch 2/100\n173/173 - 0s - loss: 0.0476\nEpoch 3/100\n173/173 - 0s - loss: 0.0216\nEpoch 4/100\n173/173 - 0s - loss: 0.0188\nEpoch 5/100\n173/173 - 0s - loss: 0.0166\nEpoch 6/100\n173/173 - 0s - loss: 0.0145\nEpoch 7/100\n173/173 - 0s - loss: 0.0125\nEpoch 8/100\n173/173 - 0s - loss: 0.0105\nEpoch 9/100\n173/173 - 0s - loss: 0.0090\nEpoch 10/100\n173/173 - 0s - loss: 0.0076\nEpoch 11/100\n173/173 - 0s - loss: 0.0066\nEpoch 12/100\n173/173 - 0s - loss: 0.0058\nEpoch 13/100\n173/173 - 0s - loss: 0.0052\nEpoch 14/100\n173/173 - 0s - loss: 0.0049\nEpoch 15/100\n173/173 - 0s - loss: 0.0047\nEpoch 16/100\n173/173 - 0s - loss: 0.0046\nEpoch 17/100\n173/173 - 0s - loss: 0.0045\nEpoch 18/100\n173/173 - 0s - loss: 0.0046\nEpoch 19/100\n173/173 - 0s - loss: 0.0044\nEpoch 20/100\n173/173 - 0s - loss: 0.0045\nEpoch 21/100\n173/173 - 0s - loss: 0.0045\nEpoch 22/100\n173/173 - 0s - loss: 0.0045\nEpoch 23/100\n173/173 - 0s - loss: 0.0045\nEpoch 24/100\n173/173 - 0s - loss: 0.0045\nEpoch 25/100\n173/173 - 0s - loss: 0.0045\nEpoch 26/100\n173/173 - 0s - loss: 0.0045\nEpoch 27/100\n173/173 - 0s - loss: 0.0045\nEpoch 28/100\n173/173 - 0s - loss: 0.0045\nEpoch 29/100\n173/173 - 0s - loss: 0.0045\nEpoch 30/100\n173/173 - 0s - loss: 0.0045\nEpoch 31/100\n173/173 - 0s - loss: 0.0045\nEpoch 32/100\n173/173 - 0s - loss: 0.0046\nEpoch 33/100\n173/173 - 0s - loss: 0.0045\nEpoch 34/100\n173/173 - 0s - loss: 0.0044\nEpoch 35/100\n173/173 - 0s - loss: 0.0043\nEpoch 36/100\n173/173 - 0s - loss: 0.0044\nEpoch 37/100\n173/173 - 0s - loss: 0.0044\nEpoch 38/100\n173/173 - 0s - loss: 0.0046\nEpoch 39/100\n173/173 - 0s - loss: 0.0045\nEpoch 40/100\n173/173 - 0s - loss: 0.0045\nEpoch 41/100\n173/173 - 0s - loss: 0.0044\nEpoch 42/100\n173/173 - 0s - loss: 0.0045\nEpoch 43/100\n173/173 - 0s - loss: 0.0045\nEpoch 44/100\n173/173 - 0s - loss: 0.0046\nEpoch 45/100\n173/173 - 0s - loss: 0.0045\nEpoch 46/100\n173/173 - 0s - loss: 0.0044\nEpoch 47/100\n173/173 - 0s - loss: 0.0043\nEpoch 48/100\n173/173 - 0s - loss: 0.0045\nEpoch 49/100\n173/173 - 0s - loss: 0.0044\nEpoch 50/100\n173/173 - 0s - loss: 0.0044\nEpoch 51/100\n173/173 - 0s - loss: 0.0044\nEpoch 52/100\n173/173 - 0s - loss: 0.0044\nEpoch 53/100\n173/173 - 0s - loss: 0.0045\nEpoch 54/100\n173/173 - 0s - loss: 0.0045\nEpoch 55/100\n173/173 - 0s - loss: 0.0045\nEpoch 56/100\n173/173 - 0s - loss: 0.0045\nEpoch 57/100\n173/173 - 0s - loss: 0.0045\nEpoch 58/100\n173/173 - 0s - loss: 0.0045\nEpoch 59/100\n173/173 - 0s - loss: 0.0045\nEpoch 60/100\n173/173 - 0s - loss: 0.0045\nEpoch 61/100\n173/173 - 0s - loss: 0.0043\nEpoch 62/100\n173/173 - 0s - loss: 0.0045\nEpoch 63/100\n173/173 - 0s - loss: 0.0045\nEpoch 64/100\n173/173 - 0s - loss: 0.0045\nEpoch 65/100\n173/173 - 0s - loss: 0.0044\nEpoch 66/100\n173/173 - 0s - loss: 0.0044\nEpoch 67/100\n173/173 - 0s - loss: 0.0044\nEpoch 68/100\n173/173 - 0s - loss: 0.0044\nEpoch 69/100\n173/173 - 0s - loss: 0.0046\nEpoch 70/100\n173/173 - 0s - loss: 0.0044\nEpoch 71/100\n173/173 - 0s - loss: 0.0046\nEpoch 72/100\n173/173 - 0s - loss: 0.0045\nEpoch 73/100\n173/173 - 0s - loss: 0.0045\nEpoch 74/100\n173/173 - 0s - loss: 0.0044\nEpoch 75/100\n173/173 - 0s - loss: 0.0045\nEpoch 76/100\n173/173 - 0s - loss: 0.0045\nEpoch 77/100\n173/173 - 0s - loss: 0.0044\nEpoch 78/100\n173/173 - 0s - loss: 0.0045\nEpoch 79/100\n173/173 - 0s - loss: 0.0044\nEpoch 80/100\n173/173 - 0s - loss: 0.0045\nEpoch 81/100\n173/173 - 0s - loss: 0.0045\nEpoch 82/100\n173/173 - 0s - loss: 0.0045\nEpoch 83/100\n173/173 - 0s - loss: 0.0044\nEpoch 84/100\n173/173 - 0s - loss: 0.0045\nEpoch 85/100\n173/173 - 0s - loss: 0.0044\nEpoch 86/100\n173/173 - 0s - loss: 0.0044\nEpoch 87/100\n173/173 - 0s - loss: 0.0045\nEpoch 88/100\n173/173 - 0s - loss: 0.0044\nEpoch 89/100\n173/173 - 0s - loss: 0.0044\nEpoch 90/100\n173/173 - 0s - loss: 0.0044\nEpoch 91/100\n173/173 - 0s - loss: 0.0044\nEpoch 92/100\n173/173 - 0s - loss: 0.0046\nEpoch 93/100\n173/173 - 0s - loss: 0.0045\nEpoch 94/100\n173/173 - 0s - loss: 0.0045\nEpoch 95/100\n173/173 - 0s - loss: 0.0044\nEpoch 96/100\n173/173 - 0s - loss: 0.0044\nEpoch 97/100\n173/173 - 0s - loss: 0.0043\nEpoch 98/100\n173/173 - 0s - loss: 0.0044\nEpoch 99/100\n173/173 - 0s - loss: 0.0046\nEpoch 100/100\n173/173 - 0s - loss: 0.0044\n",
     "output_type": "stream"
    }
   ],
   "execution_count": 36
  },
  {
   "cell_type": "code",
   "metadata": {
    "tags": [],
    "cell_id": "00018-508c2643-6517-422b-9e6a-0fc2434ddc7e",
    "deepnote_to_be_reexecuted": false,
    "source_hash": "d0913738",
    "execution_start": 1626459250850,
    "execution_millis": 9,
    "deepnote_cell_type": "code"
   },
   "source": "testPredict[:,0]",
   "outputs": [
    {
     "output_type": "execute_result",
     "execution_count": 37,
     "data": {
      "text/plain": "array([122.84572 , 122.21923 , 124.069176, 124.404396, 125.58941 ,\n       125.53665 , 128.19545 , 127.95739 , 127.207596, 127.71758 ,\n       127.89964 , 127.44263 , 128.33418 , 130.89285 , 130.5552  ,\n       130.08304 , 130.41898 , 130.78825 , 130.50987 , 129.41467 ,\n       128.21997 , 128.14633 , 127.9409  , 127.9079  , 127.825294,\n       127.75077 , 126.8436  , 125.94813 , 126.801025, 126.59602 ,\n       125.76479 , 126.217255, 125.55424 , 125.878395, 126.104614,\n       124.30496 , 123.05    , 120.32465 , 119.24081 , 117.29692 ,\n       117.17935 , 118.802765, 121.57713 , 121.01537 , 123.61254 ,\n       123.09632 , 122.74329 , 124.575615, 124.853615, 124.19629 ,\n       124.602585, 124.35923 , 124.602585, 124.54863 , 125.209785,\n       124.853615, 121.46321 , 120.75699 , 121.5107  , 124.67446 ,\n       124.934006, 122.752625, 122.603355, 126.04384 , 123.859634,\n       122.752625, 122.41628 , 122.30374 , 124.16    , 123.76825 ,\n       122.49117 , 123.02217 , 124.3773  , 124.132774], dtype=float32)"
     },
     "metadata": {}
    }
   ],
   "execution_count": 37
  },
  {
   "cell_type": "code",
   "metadata": {
    "tags": [],
    "cell_id": "00019-6328889d-3141-4f78-9733-aaaeef52afbe",
    "deepnote_to_be_reexecuted": false,
    "source_hash": "89b45c47",
    "execution_start": 1626459366122,
    "execution_millis": 0,
    "deepnote_cell_type": "code"
   },
   "source": "pred_y_2 = {}\nfor i in range(len(testPredict[:,0])):\n    pred_y_2[175+i] = testPredict[:,0][i]\n\npred_y_2 = pd.DataFrame.from_dict(pred_y_2, orient='index')",
   "outputs": [],
   "execution_count": 38
  },
  {
   "cell_type": "code",
   "metadata": {
    "tags": [],
    "cell_id": "00021-01df95f5-9566-495f-943a-41222e7d32ff",
    "deepnote_to_be_reexecuted": false,
    "source_hash": "b4cb469c",
    "execution_start": 1626459883632,
    "execution_millis": 1,
    "deepnote_cell_type": "code"
   },
   "source": "pred_y_2 = pred_y_2.rename(columns={\"predicted prices\": \"LSTM\"})",
   "outputs": [],
   "execution_count": 47
  },
  {
   "cell_type": "code",
   "metadata": {
    "tags": [],
    "cell_id": "00022-143e8f09-70f6-476a-b021-77e081d03600",
    "deepnote_to_be_reexecuted": false,
    "source_hash": "5039d8e9",
    "execution_start": 1626459884159,
    "execution_millis": 9,
    "deepnote_cell_type": "code"
   },
   "source": "pred_y_2",
   "outputs": [
    {
     "output_type": "execute_result",
     "execution_count": 48,
     "data": {
      "application/vnd.deepnote.dataframe.v2+json": {
       "row_count": 74,
       "column_count": 1,
       "columns": [
        {
         "name": "LSTM",
         "dtype": "float64",
         "stats": {
          "unique_count": 71,
          "nan_count": 0,
          "min": "117.17935180664062",
          "max": "130.89285278320312",
          "histogram": [
           {
            "bin_start": 117.17935180664062,
            "bin_end": 118.55070190429687,
            "count": 2
           },
           {
            "bin_start": 118.55070190429687,
            "bin_end": 119.92205200195312,
            "count": 2
           },
           {
            "bin_start": 119.92205200195312,
            "bin_end": 121.29340209960938,
            "count": 3
           },
           {
            "bin_start": 121.29340209960938,
            "bin_end": 122.66475219726563,
            "count": 8
           },
           {
            "bin_start": 122.66475219726563,
            "bin_end": 124.03610229492188,
            "count": 10
           },
           {
            "bin_start": 124.03610229492188,
            "bin_end": 125.40745239257812,
            "count": 17
           },
           {
            "bin_start": 125.40745239257812,
            "bin_end": 126.77880249023437,
            "count": 10
           },
           {
            "bin_start": 126.77880249023437,
            "bin_end": 128.15015258789063,
            "count": 12
           },
           {
            "bin_start": 128.15015258789063,
            "bin_end": 129.52150268554686,
            "count": 4
           },
           {
            "bin_start": 129.52150268554686,
            "bin_end": 130.89285278320312,
            "count": 6
           }
          ]
         }
        },
        {
         "name": "_deepnote_index_column",
         "dtype": "int64"
        }
       ],
       "rows_top": [
        {
         "LSTM": 122.84571838378906,
         "_deepnote_index_column": 175
        },
        {
         "LSTM": 122.21923065185547,
         "_deepnote_index_column": 176
        },
        {
         "LSTM": 124.06917572021484,
         "_deepnote_index_column": 177
        },
        {
         "LSTM": 124.4043960571289,
         "_deepnote_index_column": 178
        },
        {
         "LSTM": 125.58940887451172,
         "_deepnote_index_column": 179
        },
        {
         "LSTM": 125.53665161132812,
         "_deepnote_index_column": 180
        },
        {
         "LSTM": 128.19544982910156,
         "_deepnote_index_column": 181
        },
        {
         "LSTM": 127.95738983154297,
         "_deepnote_index_column": 182
        },
        {
         "LSTM": 127.20759582519531,
         "_deepnote_index_column": 183
        },
        {
         "LSTM": 127.71758270263672,
         "_deepnote_index_column": 184
        },
        {
         "LSTM": 127.89964294433594,
         "_deepnote_index_column": 185
        },
        {
         "LSTM": 127.442626953125,
         "_deepnote_index_column": 186
        },
        {
         "LSTM": 128.3341827392578,
         "_deepnote_index_column": 187
        },
        {
         "LSTM": 130.89285278320312,
         "_deepnote_index_column": 188
        },
        {
         "LSTM": 130.55520629882812,
         "_deepnote_index_column": 189
        },
        {
         "LSTM": 130.08303833007812,
         "_deepnote_index_column": 190
        },
        {
         "LSTM": 130.41897583007812,
         "_deepnote_index_column": 191
        },
        {
         "LSTM": 130.7882537841797,
         "_deepnote_index_column": 192
        },
        {
         "LSTM": 130.50987243652344,
         "_deepnote_index_column": 193
        },
        {
         "LSTM": 129.4146728515625,
         "_deepnote_index_column": 194
        },
        {
         "LSTM": 128.219970703125,
         "_deepnote_index_column": 195
        },
        {
         "LSTM": 128.14633178710938,
         "_deepnote_index_column": 196
        },
        {
         "LSTM": 127.94090270996094,
         "_deepnote_index_column": 197
        },
        {
         "LSTM": 127.90789794921875,
         "_deepnote_index_column": 198
        },
        {
         "LSTM": 127.8252944946289,
         "_deepnote_index_column": 199
        },
        {
         "LSTM": 127.75077056884766,
         "_deepnote_index_column": 200
        },
        {
         "LSTM": 126.84359741210938,
         "_deepnote_index_column": 201
        },
        {
         "LSTM": 125.94812774658203,
         "_deepnote_index_column": 202
        },
        {
         "LSTM": 126.801025390625,
         "_deepnote_index_column": 203
        },
        {
         "LSTM": 126.59602355957031,
         "_deepnote_index_column": 204
        },
        {
         "LSTM": 125.7647933959961,
         "_deepnote_index_column": 205
        },
        {
         "LSTM": 126.21725463867188,
         "_deepnote_index_column": 206
        },
        {
         "LSTM": 125.55423736572266,
         "_deepnote_index_column": 207
        },
        {
         "LSTM": 125.8783950805664,
         "_deepnote_index_column": 208
        },
        {
         "LSTM": 126.1046142578125,
         "_deepnote_index_column": 209
        },
        {
         "LSTM": 124.30496215820312,
         "_deepnote_index_column": 210
        },
        {
         "LSTM": 123.05000305175781,
         "_deepnote_index_column": 211
        },
        {
         "LSTM": 120.32465362548828,
         "_deepnote_index_column": 212
        },
        {
         "LSTM": 119.24080657958984,
         "_deepnote_index_column": 213
        },
        {
         "LSTM": 117.29692077636719,
         "_deepnote_index_column": 214
        },
        {
         "LSTM": 117.17935180664062,
         "_deepnote_index_column": 215
        },
        {
         "LSTM": 118.80276489257812,
         "_deepnote_index_column": 216
        },
        {
         "LSTM": 121.57713317871094,
         "_deepnote_index_column": 217
        },
        {
         "LSTM": 121.01537322998047,
         "_deepnote_index_column": 218
        },
        {
         "LSTM": 123.61254119873047,
         "_deepnote_index_column": 219
        },
        {
         "LSTM": 123.09632110595703,
         "_deepnote_index_column": 220
        },
        {
         "LSTM": 122.74329376220703,
         "_deepnote_index_column": 221
        },
        {
         "LSTM": 124.57561492919922,
         "_deepnote_index_column": 222
        },
        {
         "LSTM": 124.8536148071289,
         "_deepnote_index_column": 223
        },
        {
         "LSTM": 124.1962890625,
         "_deepnote_index_column": 224
        },
        {
         "LSTM": 124.60258483886719,
         "_deepnote_index_column": 225
        },
        {
         "LSTM": 124.3592300415039,
         "_deepnote_index_column": 226
        },
        {
         "LSTM": 124.60258483886719,
         "_deepnote_index_column": 227
        },
        {
         "LSTM": 124.54862976074219,
         "_deepnote_index_column": 228
        },
        {
         "LSTM": 125.20978546142578,
         "_deepnote_index_column": 229
        },
        {
         "LSTM": 124.8536148071289,
         "_deepnote_index_column": 230
        },
        {
         "LSTM": 121.46321105957031,
         "_deepnote_index_column": 231
        },
        {
         "LSTM": 120.75698852539062,
         "_deepnote_index_column": 232
        },
        {
         "LSTM": 121.51069641113281,
         "_deepnote_index_column": 233
        },
        {
         "LSTM": 124.6744613647461,
         "_deepnote_index_column": 234
        },
        {
         "LSTM": 124.93400573730469,
         "_deepnote_index_column": 235
        },
        {
         "LSTM": 122.75262451171875,
         "_deepnote_index_column": 236
        },
        {
         "LSTM": 122.60335540771484,
         "_deepnote_index_column": 237
        },
        {
         "LSTM": 126.04383850097656,
         "_deepnote_index_column": 238
        },
        {
         "LSTM": 123.85963439941406,
         "_deepnote_index_column": 239
        },
        {
         "LSTM": 122.75262451171875,
         "_deepnote_index_column": 240
        },
        {
         "LSTM": 122.4162826538086,
         "_deepnote_index_column": 241
        },
        {
         "LSTM": 122.30374145507812,
         "_deepnote_index_column": 242
        },
        {
         "LSTM": 124.16000366210938,
         "_deepnote_index_column": 243
        },
        {
         "LSTM": 123.76824951171875,
         "_deepnote_index_column": 244
        },
        {
         "LSTM": 122.49117279052734,
         "_deepnote_index_column": 245
        },
        {
         "LSTM": 123.02217102050781,
         "_deepnote_index_column": 246
        },
        {
         "LSTM": 124.3772964477539,
         "_deepnote_index_column": 247
        },
        {
         "LSTM": 124.13277435302734,
         "_deepnote_index_column": 248
        }
       ],
       "rows_bottom": null
      },
      "text/plain": "           LSTM\n175  122.845718\n176  122.219231\n177  124.069176\n178  124.404396\n179  125.589409\n..          ...\n244  123.768250\n245  122.491173\n246  123.022171\n247  124.377296\n248  124.132774\n\n[74 rows x 1 columns]",
      "text/html": "<div>\n<style scoped>\n    .dataframe tbody tr th:only-of-type {\n        vertical-align: middle;\n    }\n\n    .dataframe tbody tr th {\n        vertical-align: top;\n    }\n\n    .dataframe thead th {\n        text-align: right;\n    }\n</style>\n<table border=\"1\" class=\"dataframe\">\n  <thead>\n    <tr style=\"text-align: right;\">\n      <th></th>\n      <th>LSTM</th>\n    </tr>\n  </thead>\n  <tbody>\n    <tr>\n      <th>175</th>\n      <td>122.845718</td>\n    </tr>\n    <tr>\n      <th>176</th>\n      <td>122.219231</td>\n    </tr>\n    <tr>\n      <th>177</th>\n      <td>124.069176</td>\n    </tr>\n    <tr>\n      <th>178</th>\n      <td>124.404396</td>\n    </tr>\n    <tr>\n      <th>179</th>\n      <td>125.589409</td>\n    </tr>\n    <tr>\n      <th>...</th>\n      <td>...</td>\n    </tr>\n    <tr>\n      <th>244</th>\n      <td>123.768250</td>\n    </tr>\n    <tr>\n      <th>245</th>\n      <td>122.491173</td>\n    </tr>\n    <tr>\n      <th>246</th>\n      <td>123.022171</td>\n    </tr>\n    <tr>\n      <th>247</th>\n      <td>124.377296</td>\n    </tr>\n    <tr>\n      <th>248</th>\n      <td>124.132774</td>\n    </tr>\n  </tbody>\n</table>\n<p>74 rows × 1 columns</p>\n</div>"
     },
     "metadata": {}
    }
   ],
   "execution_count": 48
  },
  {
   "cell_type": "code",
   "metadata": {
    "tags": [],
    "cell_id": "00023-34c91646-8e5a-4c7b-9d44-0a544982b386",
    "deepnote_to_be_reexecuted": false,
    "source_hash": "a4d9c75b",
    "execution_start": 1626459927154,
    "execution_millis": 234,
    "deepnote_cell_type": "code"
   },
   "source": "ax = temp.plot(label='observed')\npred_y.plot(ax=ax, label='mean', alpha=.7)\npred_y_1.plot(ax=ax, label='ARMA', alpha=.7)\npred_y_2.plot(ax=ax, label='LSTM', alpha=.7)\n\n# ax.fill_between(pred_y.index,\n#                 pred_y.iloc[:, 0],\n#                 pred_y.iloc[:, 1], color='k', alpha=.2)\n\nax.set_xlabel('Date')\nax.set_ylabel('stock prices')\nplt.legend()\nplt.title('WLTW Stock Price Prediction')\n\nplt.show()",
   "outputs": [
    {
     "data": {
      "text/plain": "<Figure size 432x288 with 1 Axes>",
      "image/png": "[encoded data removed]"
     },
     "metadata": {
      "needs_background": "light",
      "image/png": {
       "width": 389,
       "height": 278
      }
     },
     "output_type": "display_data"
    }
   ],
   "execution_count": 52
  },
  {
   "cell_type": "code",
   "metadata": {
    "tags": [],
    "cell_id": "00024-7628c97f-276d-45e5-824b-4d342411326d",
    "deepnote_cell_type": "code"
   },
   "source": "",
   "execution_count": null,
   "outputs": []
  },
  {
   "cell_type": "markdown",
   "source": "<a style='text-decoration:none;line-height:16px;display:flex;color:#5B5B62;padding:10px;justify-content:end;' href='https://deepnote.com?utm_source=created-in-deepnote-cell&projectId=fb4937d9-4ef1-4542-bee6-529d5ac2a998' target=\"_blank\">\n<img alt='Created in deepnote.com' style='display:inline;max-height:16px;margin:0px;margin-right:7.5px;' src='data:image/svg+xml;base64,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' > </img>\nCreated in <span style='font-weight:600;margin-left:4px;'>Deepnote</span></a>",
   "metadata": {
    "tags": [],
    "created_in_deepnote_cell": true,
    "deepnote_cell_type": "markdown"
   }
  }
 ],
 "nbformat": 4,
 "nbformat_minor": 2,
 "metadata": {
  "orig_nbformat": 2,
  "deepnote": {
   "is_reactive": false
  },
  "deepnote_notebook_id": "4dd23742-dcaf-4d41-a602-53d47aa9bb7e",
  "deepnote_execution_queue": []
 }
}